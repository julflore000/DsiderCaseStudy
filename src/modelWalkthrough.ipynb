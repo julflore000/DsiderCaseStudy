{
 "cells": [
  {
   "cell_type": "code",
   "execution_count": 7,
   "metadata": {},
   "outputs": [],
   "source": [
    "#running imports and getting all three modules\n",
    "import weatherDataCollection.weatherCollection as weatherCollection, energyDemandForecast.runDemandForecast as runDemandForecast,ReOpt.energySystemsOptimization\n",
    "import os\n",
    "import pandas as pd\n",
    "import math\n",
    "import numpy as np\n",
    "import json\n",
    "from datetime import datetime\n",
    "import warnings\n",
    "warnings.filterwarnings(\"ignore\")"
   ]
  },
  {
   "cell_type": "code",
   "execution_count": 8,
   "metadata": {},
   "outputs": [
    {
     "name": "stdout",
     "output_type": "stream",
     "text": [
      "Saved training and forecast weather data to local energy demand folder\n"
     ]
    }
   ],
   "source": [
    "#MODULE 1: Weather data collection\n",
    "\n",
    "#uses visual crossing inputs-you will need to create your own unique weather visual crossing user key\n",
    "weatherDataInput = {\"lat\":31.026018,\n",
    "            \"long\":-96.485245,\n",
    "            \"userKey\":\"USFUDWAANQJAA7SLT6MG4JXMT\",\n",
    "            \"TrainingDateRange\": [\"2021-11-05\",\"2021-11-18\"],\n",
    "            \"ForecastDateRange\": [\"2021-11-19\",\"2021-12-03\"]\n",
    "            }\n",
    "#calling weatherDataRun-saves into output folder\n",
    "weatherCollection.weatherDataCollection.main(weatherDataInput)"
   ]
  },
  {
   "cell_type": "code",
   "execution_count": 9,
   "metadata": {},
   "outputs": [
    {
     "name": "stdout",
     "output_type": "stream",
     "text": [
      "Start time: 20:19:57\n",
      "Completed data file\n",
      "Energy Demand model output results saved to ../modelOutputs/trainingRun.xlsx\n",
      "Run over: 20:19:57\n",
      "Total model time took:  0:00:00.720634\n",
      "Energy demand forecast saved to ../modelOutputs/forecast.xlsx\n"
     ]
    }
   ],
   "source": [
    "#MODULE 2: Energy Demand Forecast\n",
    "#calling energy demand forecast to create demand forecast model on training data\n",
    "#run model on forecast weather temp data, and save results to excel file\n",
    "runDemandForecast.energyDemandRun.main()"
   ]
  },
  {
   "cell_type": "code",
   "execution_count": 10,
   "metadata": {},
   "outputs": [
    {
     "name": "stderr",
     "output_type": "stream",
     "text": [
      "main         INFO     Response OK from https://developer.nrel.gov/api/reopt/stable/job/?api_key=oW0O3wFWAT10rQIklgu9q9tf8AQfZxmCdzhtWkmD.\n",
      "main         INFO     Polling https://developer.nrel.gov/api/reopt/stable/job/0954ffa3-dbd6-45f6-b7b2-d6c0f82518e9/results/?api_key=oW0O3wFWAT10rQIklgu9q9tf8AQfZxmCdzhtWkmD for results with interval of 5s...\n",
      "main         INFO     Saved results to ReOpt/energyOptimizationOutput/results_file.json\n"
     ]
    }
   ],
   "source": [
    "#MODULE 3: Energy Systems Optimization\n",
    "# calling final method which call energy systems optimization model (currently ReOpt to optimize energy mix for next two weeks)\n",
    "\n",
    "#reading in forecast data for optimizing demand profile\n",
    "forecastData = pd.read_excel(\"../modelOutputs/forecast.xlsx\",usecols=[\"datetime\",\"energyDemand\"])\n",
    "histEnergyDemand = pd.read_excel(\"../energyDemandData/Native_Load_2021.xlsx\",usecols=[\"UpdatedDate\",\"ERCOT\"])\n",
    "\n",
    "mergedData = histEnergyDemand.merge(forecastData,left_on=\"UpdatedDate\",right_on=\"datetime\",how=\"left\")\n",
    "\n",
    "completeLoadProfile = []\n",
    "\n",
    "#filling in any nans with ercot data on merge\n",
    "for rowIndex in mergedData.index:\n",
    "    if(math.isnan(mergedData[\"energyDemand\"][rowIndex])):\n",
    "        completeLoadProfile.append(mergedData[\"ERCOT\"][rowIndex])\n",
    "    else:\n",
    "        completeLoadProfile.append(mergedData[\"energyDemand\"][rowIndex])\n",
    "\n",
    "#required inputs-see ReOpt documentation for required inputs for API-note you will need your own NREL API key \n",
    "energyOptimizationInputs = {\n",
    "    \"apiKey\": \"oW0O3wFWAT10rQIklgu9q9tf8AQfZxmCdzhtWkmD\",\n",
    "    \"lat\":31.026018,\n",
    "    \"long\":-96.485245,\n",
    "    \"annualLoadProfile\": completeLoadProfile,\n",
    "    \"include_climate_in_objective\": True,\n",
    "    \"include_health_in_objective\": True,\n",
    "}\n",
    "\n",
    "#runs energy optimization model and saves into a results_file\n",
    "ReOpt.energySystemsOptimization.energySystemsOptimization.main(energyOptimizationInputs)"
   ]
  },
  {
   "cell_type": "code",
   "execution_count": 11,
   "metadata": {},
   "outputs": [
    {
     "name": "stdout",
     "output_type": "stream",
     "text": [
      "Geothermal energy analysis done\n"
     ]
    }
   ],
   "source": [
    "###GEOTHERMAL ANALYSIS\n",
    "#now getting data and saving hourly generation by each technology to excel format\n",
    "f = open('ReOpt/energyOptimizationOutput/results_file.json')\n",
    "  \n",
    "# returns JSON object as a dictionary\n",
    "data = json.load(f)\n",
    "  \n",
    "  \n",
    "# creating pandas array with columns of interest\n",
    "finalEnergyOutput = {}\n",
    "\n",
    "\n",
    "#putting in info to final data output\n",
    "finalEnergyOutput[\"totalLoad\"] = completeLoadProfile\n",
    "\n",
    "finalEnergyOutput[\"storageDischarge\"] = data[\"outputs\"][\"Scenario\"][\"Site\"][\"Storage\"][\"year_one_to_load_series_kw\"]\n",
    "finalEnergyOutput[\"pvGen\"] = data[\"outputs\"][\"Scenario\"][\"Site\"][\"PV\"][\"year_one_to_load_series_kw\"]\n",
    "finalEnergyOutput[\"windGen\"] = data[\"outputs\"][\"Scenario\"][\"Site\"][\"Wind\"][\"year_one_to_load_series_kw\"]\n",
    "finalEnergyOutput[\"gridSupply\"] = np.array(completeLoadProfile) - (np.array(finalEnergyOutput[\"storageDischarge\"]) + np.array(finalEnergyOutput[\"pvGen\"]) + np.array(finalEnergyOutput[\"windGen\"]))\n",
    "\n",
    "#converting dict to pandas dataframe and then saving to excel\n",
    "pdEnergyDf = pd.DataFrame.from_dict(finalEnergyOutput)\n",
    "\n",
    "#selecting out the hours we are only interested in\n",
    "janFirst = \"2021-01-01T00:00:00\"\n",
    "firstForecastDate = forecastData[\"datetime\"][0] \n",
    "secondForecastDate = forecastData[\"datetime\"][len(forecastData[\"datetime\"])-1] \n",
    "\n",
    "date_format_str = '%Y-%m-%dT%H:%M:%S'\n",
    "\n",
    "startIndex = (datetime.strptime(firstForecastDate, date_format_str) - datetime.strptime(janFirst, date_format_str)).total_seconds()/3600\n",
    "endIndex = (datetime.strptime(secondForecastDate, date_format_str) - datetime.strptime(janFirst, date_format_str)).total_seconds()/3600\n",
    "\n",
    "#indexing out data\n",
    "forecastDf = pdEnergyDf.iloc[int(startIndex):(int(endIndex)+1)]\n",
    "\n",
    "forecastDf[\"datetime\"] = forecastData[\"datetime\"].to_numpy()\n",
    "\n",
    "#geothermalDemand array for when we want electricity\n",
    "#if energy demand being met by grid supply, geothermal can be deployed, else it is not needed (can't compete with low cost wind and solar)\n",
    "geothermalDemand = []\n",
    "\n",
    "for row in forecastDf.index:\n",
    "    if(forecastDf[\"gridSupply\"][row] <= 1):\n",
    "        geothermalDemand.append(0)\n",
    "    else:\n",
    "        geothermalDemand.append(1)        \n",
    "\n",
    "#putting into df\n",
    "forecastDf[\"geothermalElecNeed\"] = geothermalDemand\n",
    "\n",
    "#reordering df\n",
    "forecastDf = forecastDf[['datetime', 'pvGen', 'windGen', 'storageDischarge', 'gridSupply','geothermalElecNeed']]\n",
    "\n",
    "#writing final output to simulationOutput folder\n",
    "forecastDf.to_excel(\"../simulationOutput/energyAnalysis.xlsx\",index=False)\n",
    "\n",
    "print(\"Geothermal energy analysis done\")"
   ]
  },
  {
   "cell_type": "code",
   "execution_count": null,
   "metadata": {},
   "outputs": [],
   "source": []
  }
 ],
 "metadata": {
  "kernelspec": {
   "display_name": "Python 3 (ipykernel)",
   "language": "python",
   "name": "python3"
  },
  "language_info": {
   "codemirror_mode": {
    "name": "ipython",
    "version": 3
   },
   "file_extension": ".py",
   "mimetype": "text/x-python",
   "name": "python",
   "nbconvert_exporter": "python",
   "pygments_lexer": "ipython3",
   "version": "3.9.7"
  },
  "vscode": {
   "interpreter": {
    "hash": "88279d2366fe020547cde40dd65aa0e3aa662a6ec1f3ca12d88834876c85e1a6"
   }
  }
 },
 "nbformat": 4,
 "nbformat_minor": 2
}
